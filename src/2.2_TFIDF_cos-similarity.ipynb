{
 "cells": [
  {
   "cell_type": "markdown",
   "id": "666a5149",
   "metadata": {},
   "source": [
    "# TF-IDF Vectorization and Cosine similarity"
   ]
  },
  {
   "cell_type": "code",
   "execution_count": null,
   "id": "8e2239c9",
   "metadata": {},
   "outputs": [],
   "source": [
    "import numpy as np\n",
    "import pandas as pd"
   ]
  },
  {
   "cell_type": "markdown",
   "id": "84bf566b",
   "metadata": {},
   "source": [
    "## Load Data Files"
   ]
  },
  {
   "cell_type": "code",
   "execution_count": null,
   "id": "0bba6fef",
   "metadata": {},
   "outputs": [],
   "source": [
    "# Training data\n",
    "feed_info = pd.read_csv('../wechat_algo_data1/feed_info.csv')\n",
    "user_action = pd.read_csv('../wechat_algo_data1/user_action.csv')\n",
    "\n",
    "# Test data\n",
    "test_data = pd.read_csv('../wechat_algo_data1/test_a.csv')"
   ]
  },
  {
   "cell_type": "markdown",
   "id": "e73aaefd",
   "metadata": {},
   "source": [
    "## Data Preprocessing"
   ]
  },
  {
   "cell_type": "code",
   "execution_count": null,
   "id": "e8943839",
   "metadata": {},
   "outputs": [],
   "source": [
    "feed_info['ocr'] = feed_info['ocr'].fillna('')\n",
    "feed_info['asr'] = feed_info['asr'].fillna('')\n",
    "feed_info['description'] = feed_info['description'].fillna('')\n",
    "feed_info['description_char'] = feed_info['description_char'].fillna('')\n",
    "feed_info['manual_keyword_list'] = feed_info['manual_keyword_list'].fillna('')\n",
    "feed_info['machine_keyword_list'] = feed_info['machine_keyword_list'].fillna('')\n",
    "feed_info['manual_tag_list'] = feed_info['manual_tag_list'].fillna('')\n",
    "feed_info['machine_tag_list'] = feed_info['machine_tag_list'].fillna('')"
   ]
  },
  {
   "cell_type": "markdown",
   "id": "623678e0",
   "metadata": {},
   "source": [
    "## Train Model"
   ]
  },
  {
   "cell_type": "code",
   "execution_count": null,
   "id": "060c7c6e",
   "metadata": {},
   "outputs": [],
   "source": [
    "import pickle\n",
    "from sklearn.pipeline import make_pipeline\n",
    "from sklearn.multioutput import MultiOutputClassifier\n",
    "from sklearn.metrics.pairwise import cosine_similarity\n",
    "from sklearn.feature_extraction.text import TfidfVectorizer"
   ]
  },
  {
   "cell_type": "code",
   "execution_count": null,
   "id": "413589a6",
   "metadata": {},
   "outputs": [],
   "source": [
    "def calc_similarity(record, attribute: str, feed_info = feed_info, user_action = user_action):\n",
    "    # Get the collection of keywords from the set of videos that the user has previously watched\n",
    "    actions = user_action[user_action['userid'] == record['userid']]\n",
    "    video_set = actions.merge(feed_info, on = ['feedid'])\n",
    "    descriptions = video_set[attribute]\n",
    "\n",
    "    # Create TF-IDF vector\n",
    "    vectorizer = TfidfVectorizer()\n",
    "    bag_of_words = vectorizer.fit_transform(descriptions)\n",
    "\n",
    "    # Calculate pairwise cosine similarity\n",
    "    cos_sim = cosine_similarity(bag_of_words, bag_of_words)\n",
    "    \n",
    "    # Compute TF-IDF vector of keywords for the target video\n",
    "    target_des = feed_info[feed_info['feedid'] == record['feedid']][attribute]\n",
    "    target_vec = TfidfVectorizer(\n",
    "        vocabulary = vectorizer.vocabulary_     # Vocabulary set of corpus\n",
    "    ).fit_transform(target_des)\n",
    "    # Compute pairwise similarty\n",
    "    similarities = pd.DataFrame(cosine_similarity(bag_of_words, target_vec), columns = ['sim'])\n",
    "    \n",
    "    # Normalize the values and take the average\n",
    "    similarities = ((similarities['sim'] + 1) / 2).mean()\n",
    "\n",
    "    return similarities"
   ]
  },
  {
   "cell_type": "markdown",
   "id": "7c160ed5",
   "metadata": {},
   "source": [
    "## Make Predictions"
   ]
  },
  {
   "cell_type": "code",
   "execution_count": null,
   "id": "371e4b23",
   "metadata": {},
   "outputs": [],
   "source": [
    "target_attribute = 'asr'"
   ]
  },
  {
   "cell_type": "code",
   "execution_count": null,
   "id": "bf634e2a",
   "metadata": {},
   "outputs": [],
   "source": [
    "%time description_prob_df = test_data.apply(calc_similarity, attribute = target_attribute, axis = 1)"
   ]
  },
  {
   "cell_type": "code",
   "execution_count": null,
   "id": "fa0f3dd1",
   "metadata": {},
   "outputs": [],
   "source": [
    "output_data = pd.DataFrame({target_attribute + '_sim': description_prob_df})"
   ]
  },
  {
   "cell_type": "markdown",
   "id": "fd8b5443",
   "metadata": {},
   "source": [
    "## Save Results"
   ]
  },
  {
   "cell_type": "code",
   "execution_count": null,
   "id": "c1105e5a",
   "metadata": {},
   "outputs": [],
   "source": [
    "# Save results\n",
    "output_data.to_csv('../predictions/2.2_%s_similarity_01.csv' % target_attribute, index = False)"
   ]
  }
 ],
 "metadata": {
  "kernelspec": {
   "display_name": "Python 3",
   "language": "python",
   "name": "python3"
  },
  "language_info": {
   "codemirror_mode": {
    "name": "ipython",
    "version": 3
   },
   "file_extension": ".py",
   "mimetype": "text/x-python",
   "name": "python",
   "nbconvert_exporter": "python",
   "pygments_lexer": "ipython3",
   "version": "3.9.5"
  }
 },
 "nbformat": 4,
 "nbformat_minor": 5
}
